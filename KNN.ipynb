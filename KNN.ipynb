{
 "cells": [
  {
   "cell_type": "markdown",
   "id": "ff94eee1-0196-4e0f-8163-d8721b40aec6",
   "metadata": {},
   "source": [
    "# K Nearest Neighbour\n",
    "## Using MovieLens dataset to train and classify movies by genre and rating"
   ]
  },
  {
   "cell_type": "code",
   "execution_count": 1,
   "id": "70aeddb5-4326-41f9-b290-14cfbd2a31a9",
   "metadata": {},
   "outputs": [],
   "source": [
    "import pandas as pd\n",
    "import numpy as np"
   ]
  },
  {
   "cell_type": "code",
   "execution_count": 2,
   "id": "1348c1ac-28fa-4c59-8a0c-45ce6ee372a7",
   "metadata": {},
   "outputs": [],
   "source": [
    "columns = ['user_id', 'movie_id', 'rating']\n",
    "ratings = pd.read_csv(\"arquivos\\\\u.data\", names=columns, usecols=range(3), sep='\\t')"
   ]
  },
  {
   "cell_type": "code",
   "execution_count": 3,
   "id": "f5e29a02-fda9-4b49-ab02-ce264b8854bb",
   "metadata": {},
   "outputs": [],
   "source": [
    "# ratings.head()"
   ]
  },
  {
   "cell_type": "code",
   "execution_count": 4,
   "id": "3255b4cb-6c43-4e2d-a618-fbce8d1784b1",
   "metadata": {},
   "outputs": [],
   "source": [
    "movieProperties = ratings.groupby('movie_id').agg({'rating':[np.size, 'mean']})\n",
    "# movieProperties"
   ]
  },
  {
   "cell_type": "code",
   "execution_count": 5,
   "id": "c8e3a199-5657-4e5a-be77-d2a8e3b6d620",
   "metadata": {},
   "outputs": [],
   "source": [
    "movieNumRatings = movieProperties['rating']['size']\n",
    "# movieNumRatings"
   ]
  },
  {
   "cell_type": "markdown",
   "id": "1a9cf75b-291c-44a0-8114-173aa26de576",
   "metadata": {},
   "source": [
    "Normalizing the number of ratings per movie"
   ]
  },
  {
   "cell_type": "code",
   "execution_count": 6,
   "id": "932a919a-8a18-41ef-8204-ab37e3cef812",
   "metadata": {},
   "outputs": [],
   "source": [
    "movieNumRatingsNormalized = movieNumRatings.apply(lambda movie: (movie - np.min(movieNumRatings))    /   (np.max(movieNumRatings)-np.min(movieNumRatings))    ).copy()\n",
    "# movieNumRatingsNormalized"
   ]
  },
  {
   "cell_type": "code",
   "execution_count": 7,
   "id": "5f7a0e95-1dfe-4738-8ca9-eca3ec5e7674",
   "metadata": {},
   "outputs": [],
   "source": [
    "# len(movieNumRatingsNormalized)"
   ]
  },
  {
   "cell_type": "code",
   "execution_count": 8,
   "id": "e5556150-a546-48f3-8ec7-5c8e8be2f7f6",
   "metadata": {},
   "outputs": [],
   "source": [
    "genres = []\n",
    "with open('arquivos\\\\u.genre') as f:\n",
    "    for line in f:\n",
    "        if line.strip():\n",
    "            genres.append(line.split('|')[0])"
   ]
  },
  {
   "cell_type": "code",
   "execution_count": 9,
   "id": "f9c33051-a9b2-483d-a7f6-9a0dd85dc55c",
   "metadata": {},
   "outputs": [],
   "source": [
    "fileImport = pd.read_csv('arquivos\\\\u.item', sep='|', names=(['movie_id', 'title'] + genres),usecols=[0,1] + list(range(5,24)), encoding='latin1')\n",
    "# fileImport"
   ]
  },
  {
   "cell_type": "code",
   "execution_count": 10,
   "id": "b18cc41b-96d1-488e-bfda-da53a5acbb21",
   "metadata": {},
   "outputs": [],
   "source": [
    "movieDict = pd.DataFrame(columns=['Movie ID', 'Movie Name', 'Genre', 'Normalized Num of Ratings', 'Average Rating'])"
   ]
  },
  {
   "cell_type": "code",
   "execution_count": 95,
   "id": "64d01632-29fa-4965-94d0-f321b7ee3a35",
   "metadata": {},
   "outputs": [],
   "source": [
    "movieDict['Movie ID'] = fileImport['movie_id']\n",
    "movieDict['Movie Name'] = fileImport['title']\n",
    "movieDict['Genre'] = fileImport.apply(axis=1, func= lambda x: x[2:].tolist())\n",
    "movieDictID = movieDict.set_index('Movie ID')\n",
    "movieDictID['Average Rating'] = movieNumRatings = movieProperties['rating']['mean']\n",
    "movieDictID['Normalized Num of Ratings'] = movieNumRatingsNormalized\n",
    "movieDictID.reset_index(inplace=True)"
   ]
  },
  {
   "cell_type": "code",
   "execution_count": 102,
   "id": "612ffe3b-5878-4954-b164-40861b860058",
   "metadata": {},
   "outputs": [
    {
     "name": "stdout",
     "output_type": "stream",
     "text": [
      "1.5506003430531732\n",
      "0.5336315430423195\n",
      "Movie ID                                                                     1\n",
      "Movie Name                                                    Toy Story (1995)\n",
      "Genre                        [0, 0, 0, 1, 1, 1, 0, 0, 0, 0, 0, 0, 0, 0, 0, ...\n",
      "Normalized Num of Ratings                                             0.773585\n",
      "Average Rating                                                        3.878319\n",
      "Name: 0, dtype: object\n",
      "Movie ID                                                                     2\n",
      "Movie Name                                                    GoldenEye (1995)\n",
      "Genre                        [0, 1, 1, 0, 0, 0, 0, 0, 0, 0, 0, 0, 0, 0, 0, ...\n",
      "Normalized Num of Ratings                                             0.222985\n",
      "Average Rating                                                        3.206107\n",
      "Name: 1, dtype: object\n",
      "Movie ID                                                                    95\n",
      "Movie Name                                                      Aladdin (1992)\n",
      "Genre                        [0, 0, 0, 1, 1, 1, 0, 0, 0, 0, 0, 0, 1, 0, 0, ...\n",
      "Normalized Num of Ratings                                             0.373928\n",
      "Average Rating                                                        3.812785\n",
      "Name: 94, dtype: object\n"
     ]
    }
   ],
   "source": [
    "from scipy import spatial\n",
    "\n",
    "# a e b passados como series\n",
    "def ComputeDistance(a,b):\n",
    "    genreA = a['Genre']\n",
    "    genreB = b['Genre']\n",
    "    genreDistance = spatial.distance.cosine(genreA, genreB)\n",
    "    popularityA = a['Normalized Num of Ratings']\n",
    "    popularityB = b['Normalized Num of Ratings']\n",
    "    popularityDistance = abs(popularityA - popularityB)\n",
    "    return genreDistance + popularityDistance\n",
    "\n",
    "\n",
    "print(ComputeDistance(movieDictID.iloc[0], movieDictID.iloc[1]))\n",
    "print(ComputeDistance(movieDictID.iloc[0], movieDictID.iloc[94]))\n",
    "print(movieDictID.iloc[0])\n",
    "print(movieDictID.iloc[1])\n",
    "print(movieDictID.iloc[94])\n"
   ]
  },
  {
   "cell_type": "code",
   "execution_count": 113,
   "id": "dd226d4d-6549-4332-af38-17ec84570810",
   "metadata": {},
   "outputs": [
    {
     "name": "stdout",
     "output_type": "stream",
     "text": [
      "Liar Liar (1997) 3.156701030927835\n",
      "Aladdin (1992) 3.8127853881278537\n",
      "Willy Wonka and the Chocolate Factory (1971) 3.6319018404907975\n",
      "Monty Python and the Holy Grail (1974) 4.0664556962025316\n",
      "Full Monty, The (1997) 3.926984126984127\n",
      "George of the Jungle (1997) 2.685185185185185\n",
      "Beavis and Butt-head Do America (1996) 2.7884615384615383\n",
      "Birdcage, The (1996) 3.4436860068259385\n",
      "Home Alone (1990) 3.0875912408759123\n",
      "Aladdin and the King of Thieves (1996) 2.8461538461538463\n"
     ]
    },
    {
     "data": {
      "text/plain": [
       "3.3445905900235564"
      ]
     },
     "execution_count": 113,
     "metadata": {},
     "output_type": "execute_result"
    }
   ],
   "source": [
    "\n",
    "\n",
    "def GetNeighbors(MovieID, K):\n",
    "    distances = []\n",
    "    distances = movieDictID.apply(func=lambda row: (row['Movie ID'],ComputeDistance(movieDictID.iloc[MovieID], row)), axis=1).tolist()\n",
    "    distances.sort(key=lambda a: a[1])\n",
    "    # print(distances)\n",
    "    neighbors = []\n",
    "    for i in range(1, K+1):\n",
    "        # print(distances[i][0])\n",
    "        neighbors.append(movieDictID.iloc[distances[i][0]-1])\n",
    "    return neighbors\n",
    "\n",
    "\n",
    "\n",
    "K = 10\n",
    "avgRating = 0\n",
    "neighbors = GetNeighbors(0,10)\n",
    "for neighbor in neighbors:\n",
    "    avgRating += neighbor['Average Rating']\n",
    "    print(neighbor['Movie Name'] + ' ' + str(neighbor['Average Rating']))\n",
    "# movieDictID.apply(func=lambda row: (row,ComputeDistance(movieDictID.loc[1], row)), axis=1)\n",
    "avgRating / K\n",
    "# ComputeDistance(movieDictID.loc[1], movieDictID.loc[2])"
   ]
  }
 ],
 "metadata": {
  "kernelspec": {
   "display_name": "Python 3 (ipykernel)",
   "language": "python",
   "name": "python3"
  },
  "language_info": {
   "codemirror_mode": {
    "name": "ipython",
    "version": 3
   },
   "file_extension": ".py",
   "mimetype": "text/x-python",
   "name": "python",
   "nbconvert_exporter": "python",
   "pygments_lexer": "ipython3",
   "version": "3.11.7"
  }
 },
 "nbformat": 4,
 "nbformat_minor": 5
}

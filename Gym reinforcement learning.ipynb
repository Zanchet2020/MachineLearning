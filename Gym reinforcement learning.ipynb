{
 "cells": [
  {
   "cell_type": "code",
   "execution_count": 1,
   "id": "86ed6bcf-566a-4082-b5d9-717d90edbe95",
   "metadata": {},
   "outputs": [],
   "source": [
    "import gym\n",
    "import random"
   ]
  },
  {
   "cell_type": "code",
   "execution_count": 2,
   "id": "db2a74de-c2b3-4f3d-a101-385f495cc774",
   "metadata": {},
   "outputs": [],
   "source": [
    "random.seed(1234)"
   ]
  },
  {
   "cell_type": "code",
   "execution_count": 3,
   "id": "2dbc8dbc-092b-4845-8137-c5012ed8cb89",
   "metadata": {},
   "outputs": [
    {
     "data": {
      "text/plain": [
       "(274, {'prob': 1.0, 'action_mask': array([1, 1, 1, 1, 0, 0], dtype=int8)})"
      ]
     },
     "execution_count": 3,
     "metadata": {},
     "output_type": "execute_result"
    }
   ],
   "source": [
    "streets = gym.make('Taxi-v3', render_mode='ansi').env\n",
    "streets.reset()"
   ]
  },
  {
   "cell_type": "code",
   "execution_count": 4,
   "id": "d124b371-c1e7-4863-a8e0-dea12019c19c",
   "metadata": {},
   "outputs": [],
   "source": [
    "initial_state = streets.encode(2,3,2,0)"
   ]
  },
  {
   "cell_type": "code",
   "execution_count": 5,
   "id": "2f85f452-5650-43f7-87d0-6ead4b8d3685",
   "metadata": {},
   "outputs": [],
   "source": [
    "streets.s = initial_state"
   ]
  },
  {
   "cell_type": "code",
   "execution_count": 6,
   "id": "dbe1bb16-e9d1-4153-bc81-8ccfa0ecb7be",
   "metadata": {},
   "outputs": [
    {
     "data": {
      "text/plain": [
       "{0: [(1.0, 368, -1, False)],\n",
       " 1: [(1.0, 168, -1, False)],\n",
       " 2: [(1.0, 288, -1, False)],\n",
       " 3: [(1.0, 248, -1, False)],\n",
       " 4: [(1.0, 268, -10, False)],\n",
       " 5: [(1.0, 268, -10, False)]}"
      ]
     },
     "execution_count": 6,
     "metadata": {},
     "output_type": "execute_result"
    }
   ],
   "source": [
    "streets.P[initial_state]"
   ]
  },
  {
   "cell_type": "markdown",
   "id": "c11ab9cd-3d9c-49fc-b49d-dc9a1d1b124a",
   "metadata": {},
   "source": [
    "Utilizei o pacote gym versão 0.26.2, portanto precisei fazer algumas modificações no código para que funcionasse igual o do professor"
   ]
  },
  {
   "cell_type": "code",
   "execution_count": 7,
   "id": "9ac6c151-9629-48a8-9424-dbd044bb4721",
   "metadata": {},
   "outputs": [
    {
     "name": "stderr",
     "output_type": "stream",
     "text": [
      "D:\\dev\\LAMIA\\LAMIA_venv\\Lib\\site-packages\\gym\\utils\\passive_env_checker.py:233: DeprecationWarning: `np.bool8` is a deprecated alias for `np.bool_`.  (Deprecated NumPy 1.24)\n",
      "  if not isinstance(terminated, (bool, np.bool8)):\n"
     ]
    }
   ],
   "source": [
    "import numpy as np\n",
    "import time\n",
    "from IPython.display import clear_output\n",
    "\n",
    "q_table = np.zeros([streets.observation_space.n, streets.action_space.n])\n",
    "\n",
    "learning_rate = 0.1\n",
    "discount_factor = 0.6\n",
    "exploration = 0.1\n",
    "epochs = 100000\n",
    "max_tries = 10000\n",
    "for taxi_run in range(epochs):\n",
    "    state = streets.reset()[0]\n",
    "    done = False\n",
    "    for _ in range(max_tries):\n",
    "        random_value = random.uniform(0,1)\n",
    "        if(random_value < exploration):\n",
    "            action = streets.action_space.sample()\n",
    "        else:\n",
    "            action = np.argmax(q_table[state,:])\n",
    "        next_state, reward, terminated, truncated, info = streets.step(action)\n",
    "        \n",
    "        done = terminated or truncated\n",
    "        # print(q_table[info['action_mask'], action])\n",
    "        prev_q = q_table[state, action]\n",
    "        next_max_q = np.max(q_table[next_state])\n",
    "        new_q = (1-learning_rate) * prev_q + learning_rate * (reward + discount_factor * next_max_q)\n",
    "        q_table[state, action] = new_q\n",
    "        state = next_state\n",
    "        if done:\n",
    "            break"
   ]
  },
  {
   "cell_type": "code",
   "execution_count": 8,
   "id": "65cb75f8-b989-4196-a49e-ed810f1e6cc1",
   "metadata": {},
   "outputs": [
    {
     "data": {
      "text/plain": [
       "array([ -2.45096738,  -2.45094045,  -2.45065019,  -2.3639511 ,\n",
       "       -11.41171015, -11.35074601])"
      ]
     },
     "execution_count": 8,
     "metadata": {},
     "output_type": "execute_result"
    }
   ],
   "source": [
    "q_table[initial_state]"
   ]
  },
  {
   "cell_type": "code",
   "execution_count": 9,
   "id": "d915aa72-ee48-493c-b109-65b875c84afa",
   "metadata": {},
   "outputs": [
    {
     "name": "stdout",
     "output_type": "stream",
     "text": [
      "Trip number 10\n",
      "+---------+\n",
      "|R: | : :G|\n",
      "| : | : : |\n",
      "| : : : : |\n",
      "| | : | : |\n",
      "|Y| : |\u001b[35m\u001b[34;1m\u001b[43mB\u001b[0m\u001b[0m\u001b[0m: |\n",
      "+---------+\n",
      "  (Dropoff)\n",
      "\n"
     ]
    }
   ],
   "source": [
    "for tripnum in range(1,11):\n",
    "    state = streets.reset()[0]\n",
    "\n",
    "    done = False\n",
    "\n",
    "    while not done:\n",
    "        action = np.argmax(q_table[state])\n",
    "        next_state, reward, terminated, truncated, info = streets.step(action)\n",
    "        done = terminated or truncated\n",
    "        clear_output(wait=True)\n",
    "        print(\"Trip number \" + str(tripnum))\n",
    "        print(streets.render())\n",
    "        time.sleep(0.5)\n",
    "        state = next_state\n",
    "\n",
    "    time.sleep(2)"
   ]
  }
 ],
 "metadata": {
  "kernelspec": {
   "display_name": "Python 3 (ipykernel)",
   "language": "python",
   "name": "python3"
  },
  "language_info": {
   "codemirror_mode": {
    "name": "ipython",
    "version": 3
   },
   "file_extension": ".py",
   "mimetype": "text/x-python",
   "name": "python",
   "nbconvert_exporter": "python",
   "pygments_lexer": "ipython3",
   "version": "3.11.7"
  }
 },
 "nbformat": 4,
 "nbformat_minor": 5
}
